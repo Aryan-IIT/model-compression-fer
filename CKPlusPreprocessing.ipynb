{
 "cells": [
  {
   "cell_type": "code",
   "execution_count": 3,
   "metadata": {},
   "outputs": [],
   "source": [
    "import os\n",
    "import numpy as np\n",
    "import matplotlib.pyplot as plt\n",
    "import pandas as pd\n",
    "import random\n",
    "from shutil import copyfile"
   ]
  },
  {
   "cell_type": "code",
   "execution_count": 21,
   "metadata": {},
   "outputs": [],
   "source": [
    "EMOTIONS = [\"neutral\", \"anger\", \"contempt\", \"disgust\", \"fear\", \"happy\", \"sadness\", \"surprise\"]"
   ]
  },
  {
   "cell_type": "markdown",
   "metadata": {},
   "source": [
    "# 1. Auxiliary functions"
   ]
  },
  {
   "cell_type": "code",
   "execution_count": 3,
   "metadata": {},
   "outputs": [],
   "source": [
    "EMOTIONS_PATH = \"/Users/samuilstoychev/ckplus/CK+/Emotion\"\n",
    "IMAGES_PATH = \"/Users/samuilstoychev/ckplus/CK+/cohn-kanade-images\" "
   ]
  },
  {
   "cell_type": "code",
   "execution_count": 9,
   "metadata": {},
   "outputs": [],
   "source": [
    "def listdir(path):\n",
    "    \"\"\"List all items in a given directory (in ascending order).\"\"\"\n",
    "    res = []\n",
    "    for f in os.listdir(path):\n",
    "        if not f.startswith('.'):\n",
    "            res.append(f)\n",
    "    return sorted(res)"
   ]
  },
  {
   "cell_type": "code",
   "execution_count": 5,
   "metadata": {},
   "outputs": [],
   "source": [
    "def get_images(subject, sample): \n",
    "    folder = \"/\".join([IMAGES_PATH, subject, sample])\n",
    "    images = listdir(folder)\n",
    "    neutral = folder + \"/\" + images[0]\n",
    "    emotional = [folder + \"/\" + img for img in [images[-3], images[-2], images[-1]]]\n",
    "    return (neutral, emotional)"
   ]
  },
  {
   "cell_type": "markdown",
   "metadata": {},
   "source": [
    "# 2. Allocating images to emotions"
   ]
  },
  {
   "cell_type": "code",
   "execution_count": 6,
   "metadata": {},
   "outputs": [],
   "source": [
    "subjects = listdir(EMOTIONS_PATH) "
   ]
  },
  {
   "cell_type": "code",
   "execution_count": 7,
   "metadata": {},
   "outputs": [],
   "source": [
    "train_subjects = set(random.sample(subjects, int(0.7 * len(subjects))))"
   ]
  },
  {
   "cell_type": "code",
   "execution_count": 8,
   "metadata": {},
   "outputs": [
    {
     "data": {
      "text/plain": [
       "86"
      ]
     },
     "execution_count": 8,
     "metadata": {},
     "output_type": "execute_result"
    }
   ],
   "source": [
    "len(train_subjects)"
   ]
  },
  {
   "cell_type": "code",
   "execution_count": 9,
   "metadata": {},
   "outputs": [
    {
     "data": {
      "text/plain": [
       "37"
      ]
     },
     "execution_count": 9,
     "metadata": {},
     "output_type": "execute_result"
    }
   ],
   "source": [
    "len(subjects) - len(train_subjects)"
   ]
  },
  {
   "cell_type": "code",
   "execution_count": 10,
   "metadata": {},
   "outputs": [],
   "source": [
    "data = [[] for _ in range(8)] \n",
    "\n",
    "for subj in subjects: \n",
    "    samples = listdir(EMOTIONS_PATH + \"/\" + subj) \n",
    "    for samp in samples: \n",
    "        files = listdir(EMOTIONS_PATH + \"/\" + subj + \"/\" + samp)\n",
    "        if len(files) is not 0: \n",
    "            fsubj, fsample, _, _ = files[0].split(\"_\")\n",
    "            emotion = open(EMOTIONS_PATH + \"/\" + subj + \"/\" + samp + \"/\" + files[0], \"r\").read().strip()\n",
    "            emotion = int(float(emotion)) \n",
    "            neutral, emotional = get_images(fsubj, fsample)\n",
    "            data[0].append(neutral)\n",
    "            data[emotion] += emotional"
   ]
  },
  {
   "cell_type": "markdown",
   "metadata": {},
   "source": [
    "### Distribution of emotions"
   ]
  },
  {
   "cell_type": "code",
   "execution_count": 11,
   "metadata": {},
   "outputs": [
    {
     "data": {
      "image/png": "[encoded data removed]",
      "text/plain": [
       "<Figure size 432x288 with 1 Axes>"
      ]
     },
     "metadata": {
      "needs_background": "light"
     },
     "output_type": "display_data"
    },
    {
     "name": "stdout",
     "output_type": "stream",
     "text": [
      "Distribution of emotions: [327, 135, 54, 177, 75, 207, 84, 249]\n",
      "Images in total: 1308\n"
     ]
    }
   ],
   "source": [
    "dist = [len(data[x]) for x in range(8)]\n",
    "y_pos = np.arange(len(EMOTIONS))\n",
    "\n",
    "plt.bar(y_pos, dist, align='center', alpha=0.8)\n",
    "plt.xticks(y_pos, EMOTIONS)\n",
    "\n",
    "plt.show()\n",
    "print(\"Distribution of emotions:\", dist)\n",
    "print(\"Images in total:\", sum(dist))"
   ]
  },
  {
   "cell_type": "markdown",
   "metadata": {},
   "source": [
    "# 3. Splitting into train and test"
   ]
  },
  {
   "cell_type": "code",
   "execution_count": 12,
   "metadata": {},
   "outputs": [
    {
     "data": {
      "text/plain": [
       "1308"
      ]
     },
     "execution_count": 12,
     "metadata": {},
     "output_type": "execute_result"
    }
   ],
   "source": [
    "sum([len(x) for x in data])"
   ]
  },
  {
   "cell_type": "code",
   "execution_count": 13,
   "metadata": {},
   "outputs": [],
   "source": [
    "train = [list(filter(lambda x: x.split(\"/\")[-3] in train_subjects, em)) for em in data]\n",
    "test = [list(filter(lambda x: x.split(\"/\")[-3] not in train_subjects, em)) for em in data]"
   ]
  },
  {
   "cell_type": "code",
   "execution_count": 14,
   "metadata": {},
   "outputs": [
    {
     "data": {
      "text/plain": [
       "924"
      ]
     },
     "execution_count": 14,
     "metadata": {},
     "output_type": "execute_result"
    }
   ],
   "source": [
    "sum([len(x) for x in train])"
   ]
  },
  {
   "cell_type": "code",
   "execution_count": 15,
   "metadata": {},
   "outputs": [
    {
     "data": {
      "text/plain": [
       "384"
      ]
     },
     "execution_count": 15,
     "metadata": {},
     "output_type": "execute_result"
    }
   ],
   "source": [
    "sum([len(x) for x in test])"
   ]
  },
  {
   "cell_type": "markdown",
   "metadata": {},
   "source": [
    "# Compare Train and Test Distribution"
   ]
  },
  {
   "cell_type": "code",
   "execution_count": 16,
   "metadata": {},
   "outputs": [
    {
     "data": {
      "image/png": "[encoded data removed]",
      "text/plain": [
       "<Figure size 432x288 with 1 Axes>"
      ]
     },
     "metadata": {
      "needs_background": "light"
     },
     "output_type": "display_data"
    },
    {
     "name": "stdout",
     "output_type": "stream",
     "text": [
      "Distribution of emotions: [231, 90, 39, 132, 51, 153, 60, 168]\n",
      "Images in total: 924\n"
     ]
    }
   ],
   "source": [
    "dist = [len(x) for x in train]\n",
    "y_pos = np.arange(len(EMOTIONS))\n",
    "\n",
    "plt.bar(y_pos, dist, align='center', alpha=0.8)\n",
    "plt.xticks(y_pos, EMOTIONS)\n",
    "\n",
    "plt.show()\n",
    "print(\"Distribution of emotions:\", dist)\n",
    "print(\"Images in total:\", sum(dist))"
   ]
  },
  {
   "cell_type": "code",
   "execution_count": 17,
   "metadata": {},
   "outputs": [
    {
     "data": {
      "image/png": "[encoded data removed]",
      "text/plain": [
       "<Figure size 432x288 with 1 Axes>"
      ]
     },
     "metadata": {
      "needs_background": "light"
     },
     "output_type": "display_data"
    },
    {
     "name": "stdout",
     "output_type": "stream",
     "text": [
      "Distribution of emotions: [96, 45, 15, 45, 24, 54, 24, 81]\n",
      "Images in total: 384\n"
     ]
    }
   ],
   "source": [
    "dist = [len(x) for x in test]\n",
    "y_pos = np.arange(len(EMOTIONS))\n",
    "\n",
    "plt.bar(y_pos, dist, align='center', alpha=0.8)\n",
    "plt.xticks(y_pos, EMOTIONS)\n",
    "\n",
    "plt.show()\n",
    "print(\"Distribution of emotions:\", dist)\n",
    "print(\"Images in total:\", sum(dist))"
   ]
  },
  {
   "cell_type": "markdown",
   "metadata": {},
   "source": [
    "# Get the Subject-to-Gender Mapping"
   ]
  },
  {
   "cell_type": "code",
   "execution_count": 18,
   "metadata": {},
   "outputs": [],
   "source": [
    "labels_file = './ckplus_labels.csv'\n",
    "df = pd.read_csv(labels_file, header=None)"
   ]
  },
  {
   "cell_type": "code",
   "execution_count": 19,
   "metadata": {},
   "outputs": [],
   "source": [
    "gender_of = dict() \n",
    "for subj, lab in df.values: \n",
    "    gender_of[subj] = lab"
   ]
  },
  {
   "cell_type": "code",
   "execution_count": 20,
   "metadata": {},
   "outputs": [
    {
     "name": "stdout",
     "output_type": "stream",
     "text": [
      "Number of female subjecs: 84\n",
      "Number of male subjecs: 39\n"
     ]
    }
   ],
   "source": [
    "print(\"Number of female subjecs:\", sum(df[1]=='f'))\n",
    "print(\"Number of male subjecs:\", sum(df[1]=='m'))"
   ]
  },
  {
   "cell_type": "markdown",
   "metadata": {},
   "source": [
    "# 4. Copy into new directory"
   ]
  },
  {
   "cell_type": "code",
   "execution_count": 21,
   "metadata": {},
   "outputs": [],
   "source": [
    "def add_gender(name): \n",
    "    return name.split(\".\")[0] + \"_\" + gender_of[name.split(\"_\")[-3]] + \".\" + name.split(\".\")[1]"
   ]
  },
  {
   "cell_type": "code",
   "execution_count": 22,
   "metadata": {},
   "outputs": [],
   "source": [
    "NEW_FOLDER_TRAIN = \"/Users/samuilstoychev/ckplus_cross_subject/train/\"\n",
    "NEW_FOLDER_TEST = \"/Users/samuilstoychev/ckplus_cross_subject/test/\"\n",
    "for emotion_index in range(8): \n",
    "    train_folder = NEW_FOLDER_TRAIN + \"class_\" + str(emotion_index) + \"/\" \n",
    "    test_folder = NEW_FOLDER_TEST + \"class_\" + str(emotion_index) + \"/\" \n",
    "    \n",
    "    for img_address in train[emotion_index]: \n",
    "        filename = img_address.split(\"/\")[-1]\n",
    "        copyfile(img_address, train_folder + add_gender(filename))\n",
    "    for img_address in test[emotion_index]: \n",
    "        filename = img_address.split(\"/\")[-1]\n",
    "        copyfile(img_address, test_folder + add_gender(filename))"
   ]
  },
  {
   "cell_type": "markdown",
   "metadata": {},
   "source": [
    "# 5. Other Visualisations"
   ]
  },
  {
   "cell_type": "code",
   "execution_count": 40,
   "metadata": {},
   "outputs": [
    {
     "name": "stdout",
     "output_type": "stream",
     "text": [
      "Distribution of emotions: [231, 90, 39, 132, 51, 153, 60, 168]\n",
      "Images in total: 924\n"
     ]
    },
    {
     "data": {
      "image/png": "[encoded data removed]",
      "text/plain": [
       "<Figure size 800x320 with 1 Axes>"
      ]
     },
     "metadata": {
      "needs_background": "light"
     },
     "output_type": "display_data"
    }
   ],
   "source": [
    "dist = [len(listdir(\"/Users/samuilstoychev/ckplus_cross_subject/train/class_\" + str(i))) for i in range(8)]\n",
    "\n",
    "y_pos = np.arange(len(EMOTIONS))\n",
    "plt.figure(figsize=(10,4), dpi=80)\n",
    "\n",
    "plt.bar(y_pos, dist, align='center', alpha=0.8)\n",
    "plt.xticks(y_pos, EMOTIONS)\n",
    "plt.tick_params(labelsize=14)\n",
    "plt.xlabel(\"Emotion\", size=16)\n",
    "plt.ylabel(\"Number of images\", size=16)\n",
    "\n",
    "plt.title(\"Train dataset distribution\", size=16)\n",
    "plt.savefig(\"figures/train_dist.svg\")\n",
    "print(\"Distribution of emotions:\", dist)\n",
    "print(\"Images in total:\", sum(dist))"
   ]
  },
  {
   "cell_type": "code",
   "execution_count": 41,
   "metadata": {},
   "outputs": [
    {
     "name": "stdout",
     "output_type": "stream",
     "text": [
      "Distribution of emotions: [96, 45, 15, 45, 24, 54, 24, 81]\n",
      "Images in total: 384\n"
     ]
    },
    {
     "data": {
      "image/png": "[encoded data removed]",
      "text/plain": [
       "<Figure size 800x320 with 1 Axes>"
      ]
     },
     "metadata": {
      "needs_background": "light"
     },
     "output_type": "display_data"
    }
   ],
   "source": [
    "dist = [len(listdir(\"/Users/samuilstoychev/ckplus_cross_subject/test/class_\" + str(i))) for i in range(8)]\n",
    "\n",
    "y_pos = np.arange(len(EMOTIONS))\n",
    "plt.figure(figsize=(10,4), dpi=80)\n",
    "\n",
    "plt.bar(y_pos, dist, align='center', alpha=0.8)\n",
    "plt.xticks(y_pos, EMOTIONS)\n",
    "plt.tick_params(labelsize=14)\n",
    "plt.xlabel(\"Emotion\", size=16)\n",
    "plt.ylabel(\"Number of images\", size=16)\n",
    "\n",
    "plt.title(\"Test dataset distribution\", size=16)\n",
    "plt.savefig(\"figures/test_dist.svg\")\n",
    "print(\"Distribution of emotions:\", dist)\n",
    "print(\"Images in total:\", sum(dist))"
   ]
  }
 ],
 "metadata": {
  "kernelspec": {
   "display_name": "Python 3",
   "language": "python",
   "name": "python3"
  },
  "language_info": {
   "codemirror_mode": {
    "name": "ipython",
    "version": 3
   },
   "file_extension": ".py",
   "mimetype": "text/x-python",
   "name": "python",
   "nbconvert_exporter": "python",
   "pygments_lexer": "ipython3",
   "version": "3.7.4"
  }
 },
 "nbformat": 4,
 "nbformat_minor": 5
}
