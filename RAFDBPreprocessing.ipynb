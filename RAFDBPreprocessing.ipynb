{
 "cells": [
  {
   "cell_type": "code",
   "execution_count": 114,
   "id": "robust-corner",
   "metadata": {},
   "outputs": [],
   "source": [
    "from shutil import copyfile"
   ]
  },
  {
   "cell_type": "markdown",
   "id": "visible-architect",
   "metadata": {},
   "source": [
    "# Collect a list of images"
   ]
  },
  {
   "cell_type": "code",
   "execution_count": 9,
   "id": "exact-section",
   "metadata": {},
   "outputs": [],
   "source": [
    "image_names = !ls /Users/samuilstoychev/Desktop/RAF-DB/basic/Image/aligned"
   ]
  },
  {
   "cell_type": "code",
   "execution_count": 14,
   "id": "indian-corruption",
   "metadata": {},
   "outputs": [],
   "source": [
    "# Assert there are 15339 unique images (in accordance with RAF-DB's README file)\n",
    "assert len(image_names) == 15339"
   ]
  },
  {
   "cell_type": "markdown",
   "id": "egyptian-california",
   "metadata": {},
   "source": [
    "# Collect ground truth and metadata"
   ]
  },
  {
   "cell_type": "code",
   "execution_count": 20,
   "id": "under-court",
   "metadata": {},
   "outputs": [],
   "source": [
    "RAF_DB_ROOT_PATH = \"/Users/samuilstoychev/Desktop/RAF-DB/basic\"\n",
    "RAF_DB_EMOTIONS_FILE = RAF_DB_ROOT_PATH + \"/EmoLabel/list_patition_label.txt\"\n",
    "RAF_DB_ANNOTATIONS_PATH = RAF_DB_ROOT_PATH + \"/Annotation/manual\""
   ]
  },
  {
   "cell_type": "markdown",
   "id": "extraordinary-joint",
   "metadata": {},
   "source": [
    "## Create emotion mapping\n",
    "\n",
    "```\n",
    "1: Surprise\n",
    "2: Fear\n",
    "3: Disgust\n",
    "4: Happiness\n",
    "5: Sadness\n",
    "6: Anger\n",
    "7: Neutral\n",
    "```"
   ]
  },
  {
   "cell_type": "code",
   "execution_count": 72,
   "id": "athletic-hepatitis",
   "metadata": {},
   "outputs": [],
   "source": [
    "emotion_mapping = dict() "
   ]
  },
  {
   "cell_type": "code",
   "execution_count": 73,
   "id": "human-referral",
   "metadata": {},
   "outputs": [],
   "source": [
    "with open(RAF_DB_EMOTIONS_FILE, \"r\") as f: \n",
    "    for line in f: \n",
    "        line = line.strip()\n",
    "        image_name, emotion = line.split(\" \")\n",
    "        image_id = image_name.split(\"_\")[1].split(\".\")[0]\n",
    "        emotion_mapping[image_id] = int(emotion)"
   ]
  },
  {
   "cell_type": "code",
   "execution_count": 75,
   "id": "polyphonic-inspector",
   "metadata": {},
   "outputs": [],
   "source": [
    "# Assert every image has a corresponding mapping\n",
    "assert len(emotion_mapping) == len(image_names)"
   ]
  },
  {
   "cell_type": "markdown",
   "id": "outstanding-style",
   "metadata": {},
   "source": [
    "## Collect feature mapping"
   ]
  },
  {
   "cell_type": "code",
   "execution_count": 79,
   "id": "equal-latter",
   "metadata": {},
   "outputs": [],
   "source": [
    "annotation_files = !ls {RAF_DB_ANNOTATIONS_PATH}"
   ]
  },
  {
   "cell_type": "code",
   "execution_count": 82,
   "id": "expected-garage",
   "metadata": {},
   "outputs": [],
   "source": [
    "# Assert there is an annotation file for each image\n",
    "assert len(annotation_files) == len(image_names)"
   ]
  },
  {
   "cell_type": "code",
   "execution_count": 91,
   "id": "weird-usage",
   "metadata": {},
   "outputs": [],
   "source": [
    "feature_mapping = dict()\n",
    "\n",
    "for annotation_file in annotation_files: \n",
    "    image_id = annotation_file.split(\"_\")[1]\n",
    "    with open(RAF_DB_ANNOTATIONS_PATH + \"/\" + annotation_file) as f: \n",
    "        gender, race, age = [int(x.strip()) for x in f.readlines()[-3:]]\n",
    "        assert (gender >= 0 and gender <= 2)\n",
    "        assert (race >= 0 and race <= 2)\n",
    "        assert (age >= 0 and age <= 4)\n",
    "        feature_mapping[image_id] = {\"gender\": gender, \"race\": race, \"age\": age}"
   ]
  },
  {
   "cell_type": "code",
   "execution_count": 92,
   "id": "greenhouse-atlanta",
   "metadata": {},
   "outputs": [],
   "source": [
    "assert len(feature_mapping) == len(image_names)"
   ]
  },
  {
   "cell_type": "code",
   "execution_count": 105,
   "id": "continent-football",
   "metadata": {},
   "outputs": [],
   "source": [
    "class RAFDBImage: \n",
    "    RAF_DB_ROOT_PATH = \"/Users/samuilstoychev/Desktop/RAF-DB/basic\"\n",
    "    \n",
    "    def __init__(self, name): \n",
    "        self.name = name\n",
    "        self.category = name.split(\"_\")[0]\n",
    "        self.id = name.split(\"_\")[1]\n",
    "        self.emotion = emotion_mapping[self.id]\n",
    "        self.gender = feature_mapping[self.id][\"gender\"]\n",
    "        self.race = feature_mapping[self.id][\"race\"]\n",
    "        self.age = feature_mapping[self.id][\"age\"]      \n",
    "    \n",
    "    def __str__(self): \n",
    "        return \"Name: {}, Emotion: {}, Gender: {}, Race: {}, Age: {}\".format(\n",
    "            self.name, self.emotion, self.gender, self.race, self.age\n",
    "        )\n",
    "    \n",
    "    def __repr__(self): \n",
    "        return self.__str__()\n",
    "    \n",
    "    def get_final_name(self): \n",
    "        return \"{}_{}_{}_{}.jpg\".format(self.id, self.gender, self.race, self.age)"
   ]
  },
  {
   "cell_type": "markdown",
   "id": "excited-briefs",
   "metadata": {},
   "source": [
    "# Move files in the right folders"
   ]
  },
  {
   "cell_type": "code",
   "execution_count": 109,
   "id": "spare-context",
   "metadata": {},
   "outputs": [],
   "source": [
    "images = [RAFDBImage(image_name) for image_name in image_names]"
   ]
  },
  {
   "cell_type": "code",
   "execution_count": 119,
   "id": "starting-victorian",
   "metadata": {},
   "outputs": [],
   "source": [
    "for image in images: \n",
    "    SRC = \"/Users/samuilstoychev/Desktop/RAF-DB/basic/Image/aligned/\" + image.name\n",
    "    DEST = \"/Users/samuilstoychev/RAF_DB_preprocessed/{}/class_{}/{}\".format(\n",
    "        image.category, image.emotion, image.get_final_name()\n",
    "    )\n",
    "    copyfile(SRC, DEST)"
   ]
  },
  {
   "cell_type": "markdown",
   "id": "automated-trinity",
   "metadata": {},
   "source": [
    "# Note: Annotations are as follows"
   ]
  },
  {
   "cell_type": "markdown",
   "id": "second-fellowship",
   "metadata": {},
   "source": [
    "```\n",
    "Gender\n",
    "0: male\t\t1: female\t2: unsure\n",
    "----------------------------------------------------------------------\n",
    "Race\t\n",
    "0: Caucasian\t\t1: African-American\t\t2: Asian\n",
    "----------------------------------------------------------------------\n",
    "Age (5 ranges)\t\n",
    "0: 0-3\t 1: 4-19\t\t2: 20-39\t\t3: 40-69\t\t4: 70+\n",
    "----------------------------------------------------------------------\n",
    "```"
   ]
  },
  {
   "cell_type": "code",
   "execution_count": null,
   "id": "paperback-regular",
   "metadata": {},
   "outputs": [],
   "source": []
  }
 ],
 "metadata": {
  "kernelspec": {
   "display_name": "Python 3",
   "language": "python",
   "name": "python3"
  },
  "language_info": {
   "codemirror_mode": {
    "name": "ipython",
    "version": 3
   },
   "file_extension": ".py",
   "mimetype": "text/x-python",
   "name": "python",
   "nbconvert_exporter": "python",
   "pygments_lexer": "ipython3",
   "version": "3.7.10"
  }
 },
 "nbformat": 4,
 "nbformat_minor": 5
}
