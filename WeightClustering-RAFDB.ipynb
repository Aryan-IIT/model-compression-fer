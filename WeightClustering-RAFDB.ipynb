{
 "cells": [
  {
   "cell_type": "markdown",
   "id": "future-deputy",
   "metadata": {},
   "source": [
    "# Importing Libraries"
   ]
  },
  {
   "cell_type": "code",
   "execution_count": null,
   "id": "sought-burden",
   "metadata": {},
   "outputs": [],
   "source": [
    "from tensorflow.keras.models import model_from_json\n",
    "from fer_model import get_fer_model\n",
    "import tensorflow as tf\n",
    "import tempfile \n",
    "\n",
    "import numpy as np\n",
    "import pandas as pd\n",
    "import matplotlib.pyplot as plt\n",
    "%matplotlib inline\n",
    "\n",
    "from tensorflow.keras.callbacks import ModelCheckpoint, ReduceLROnPlateau\n",
    "from livelossplot import PlotLossesKerasTF\n",
    "from tensorflow.keras.optimizers import Adam\n",
    "\n",
    "import os\n",
    "import zipfile\n",
    "\n",
    "import tensorflow_model_optimization as tfmot\n",
    "import pickle"
   ]
  },
  {
   "cell_type": "code",
   "execution_count": null,
   "id": "removed-flash",
   "metadata": {},
   "outputs": [],
   "source": [
    "import time\n",
    "TIMESTAMP = round(time.time())"
   ]
  },
  {
   "cell_type": "code",
   "execution_count": null,
   "id": "received-ranch",
   "metadata": {},
   "outputs": [],
   "source": [
    "import os\n",
    "os.environ['KMP_DUPLICATE_LIB_OK']='True'"
   ]
  },
  {
   "cell_type": "markdown",
   "id": "level-devon",
   "metadata": {},
   "source": [
    "# Loading the RAFDB Dataset"
   ]
  },
  {
   "cell_type": "code",
   "execution_count": null,
   "id": "funky-burden",
   "metadata": {},
   "outputs": [],
   "source": [
    "from data import load_rafdb\n",
    "train_generator = load_rafdb(\"train\")\n",
    "test_generator = load_rafdb(\"test\")"
   ]
  },
  {
   "cell_type": "markdown",
   "id": "formed-irish",
   "metadata": {},
   "source": [
    "# Load Baseline Model"
   ]
  },
  {
   "cell_type": "code",
   "execution_count": null,
   "id": "obvious-gathering",
   "metadata": {},
   "outputs": [],
   "source": [
    "model = get_fer_model(input_size=100, input_channels=1, out_classes=7)\n",
    "model.load_weights(\"weights_rafdb/model_weights_1626211720.h5\")"
   ]
  },
  {
   "cell_type": "code",
   "execution_count": null,
   "id": "beneficial-alaska",
   "metadata": {},
   "outputs": [],
   "source": [
    "from evaluation import get_metrics_rafdb\n",
    "\n",
    "print(\"Baseline model performance:\")\n",
    "get_metrics_rafdb(model, test_generator)"
   ]
  },
  {
   "cell_type": "markdown",
   "id": "divine-family",
   "metadata": {},
   "source": [
    "# Apply Weight Clustering"
   ]
  },
  {
   "cell_type": "code",
   "execution_count": null,
   "id": "renewable-croatia",
   "metadata": {},
   "outputs": [],
   "source": [
    "if \"N_CLUSTERS\" not in locals(): \n",
    "    N_CLUSTERS = 32\n",
    "print(\"N_CLUSTERS =\", N_CLUSTERS)"
   ]
  },
  {
   "cell_type": "code",
   "execution_count": null,
   "id": "human-acoustic",
   "metadata": {},
   "outputs": [],
   "source": [
    "cluster_weights = tfmot.clustering.keras.cluster_weights\n",
    "CentroidInitialization = tfmot.clustering.keras.CentroidInitialization\n",
    "\n",
    "clustering_params = {\n",
    "  'number_of_clusters': N_CLUSTERS,\n",
    "  'cluster_centroids_init': CentroidInitialization.LINEAR\n",
    "}\n",
    "\n",
    "# Cluster a whole model\n",
    "clustered_model = cluster_weights(model, **clustering_params)\n",
    "\n",
    "# Use smaller learning rate for fine-tuning clustered model\n",
    "opt = Adam(lr=0.0005)\n",
    "\n",
    "clustered_model.compile(optimizer=opt, loss='categorical_crossentropy', metrics=['accuracy'])"
   ]
  },
  {
   "cell_type": "code",
   "execution_count": null,
   "id": "hybrid-norway",
   "metadata": {},
   "outputs": [],
   "source": [
    "# Fine-Tuning \n",
    "epochs = 3\n",
    "steps_per_epoch = train_generator.n//train_generator.batch_size\n",
    "validation_steps = test_generator.n//test_generator.batch_size\n",
    "\n",
    "reduce_lr = ReduceLROnPlateau(monitor='val_loss', factor=0.1,\n",
    "                              patience=2, min_lr=0.00001, mode='auto')\n",
    "checkpoint_name = \"weights_rafdb/clustered_model_c%d_%s.h5\" % (N_CLUSTERS, TIMESTAMP)\n",
    "checkpoint = ModelCheckpoint(checkpoint_name, \n",
    "                             monitor='val_accuracy',\n",
    "                             save_best_only=True,\n",
    "                             save_weights_only=True, \n",
    "                             mode='max', verbose=1)\n",
    "callbacks = [PlotLossesKerasTF(), \n",
    "             checkpoint, \n",
    "             reduce_lr, \n",
    "             ]\n",
    "\n",
    "clustered_model.fit(\n",
    "    x=train_generator,\n",
    "    steps_per_epoch=steps_per_epoch,\n",
    "    epochs=epochs,\n",
    "    validation_data = test_generator,\n",
    "    validation_steps = validation_steps,\n",
    "    callbacks=callbacks\n",
    ")\n",
    "\n",
    "# Only use the best weights \n",
    "clustered_model.load_weights(checkpoint_name)"
   ]
  },
  {
   "cell_type": "code",
   "execution_count": null,
   "id": "improving-divorce",
   "metadata": {},
   "outputs": [],
   "source": [
    "clustered_model = tfmot.clustering.keras.strip_clustering(clustered_model)"
   ]
  },
  {
   "cell_type": "markdown",
   "id": "burning-dialogue",
   "metadata": {},
   "source": [
    "# Evaluate Clustered Model"
   ]
  },
  {
   "cell_type": "code",
   "execution_count": null,
   "id": "together-position",
   "metadata": {},
   "outputs": [],
   "source": [
    "print(\"Model performance after weight clustering:\")\n",
    "metrics = get_metrics_rafdb(clustered_model, test_generator)\n",
    "metrics"
   ]
  },
  {
   "cell_type": "markdown",
   "id": "systematic-spider",
   "metadata": {},
   "source": [
    "### Store results"
   ]
  },
  {
   "cell_type": "code",
   "execution_count": null,
   "id": "organizational-thanks",
   "metadata": {},
   "outputs": [],
   "source": [
    "with open(\"logs_rafdb/clustered_model_metrics_c%d_%s\" % (N_CLUSTERS, TIMESTAMP), \n",
    "          'wb') as clustered_model_metrics_file:\n",
    "        pickle.dump(metrics, clustered_model_metrics_file)"
   ]
  },
  {
   "cell_type": "markdown",
   "id": "bored-formation",
   "metadata": {},
   "source": [
    "# Apply Quantisation to Clustered Model "
   ]
  },
  {
   "cell_type": "code",
   "execution_count": null,
   "id": "appointed-working",
   "metadata": {},
   "outputs": [],
   "source": [
    "converter = tf.lite.TFLiteConverter.from_keras_model(clustered_model)\n",
    "# This optimisation includes the quantisation \n",
    "converter.optimizations = [tf.lite.Optimize.DEFAULT]\n",
    "quantized_and_clustered_tflite_model = converter.convert()"
   ]
  },
  {
   "cell_type": "markdown",
   "id": "protected-joining",
   "metadata": {},
   "source": [
    "# Evaluate Quantised and Clustered Model"
   ]
  },
  {
   "cell_type": "code",
   "execution_count": null,
   "id": "accessible-banner",
   "metadata": {},
   "outputs": [],
   "source": [
    "from evaluation import get_metrics_quantised\n",
    "metrics = get_metrics_quantised(quantized_and_clustered_tflite_model, test_generator, dataset=\"rafdb\")"
   ]
  },
  {
   "cell_type": "code",
   "execution_count": null,
   "id": "animated-element",
   "metadata": {},
   "outputs": [],
   "source": [
    "print(\"Clustered and quantised model performance:\")\n",
    "metrics"
   ]
  },
  {
   "cell_type": "markdown",
   "id": "aggressive-judges",
   "metadata": {},
   "source": [
    "### Store results"
   ]
  },
  {
   "cell_type": "code",
   "execution_count": null,
   "id": "educated-dance",
   "metadata": {},
   "outputs": [],
   "source": [
    "with open(\"logs_rafdb/clustered_and_quantised_model_metrics_c%d_%s\" % (N_CLUSTERS, TIMESTAMP), \n",
    "          'wb') as clustered_and_quantised_model_metrics_file:\n",
    "        pickle.dump(metrics, clustered_and_quantised_model_metrics_file)"
   ]
  }
 ],
 "metadata": {
  "kernelspec": {
   "display_name": "Python 3",
   "language": "python",
   "name": "python3"
  },
  "language_info": {
   "codemirror_mode": {
    "name": "ipython",
    "version": 3
   },
   "file_extension": ".py",
   "mimetype": "text/x-python",
   "name": "python",
   "nbconvert_exporter": "python",
   "pygments_lexer": "ipython3",
   "version": "3.7.10"
  }
 },
 "nbformat": 4,
 "nbformat_minor": 5
}
