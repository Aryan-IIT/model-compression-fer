{
 "cells": [
  {
   "cell_type": "markdown",
   "id": "junior-turkish",
   "metadata": {},
   "source": [
    "# Importing Libraries"
   ]
  },
  {
   "cell_type": "code",
   "execution_count": 1,
   "id": "honey-reform",
   "metadata": {},
   "outputs": [],
   "source": [
    "from tensorflow.keras.models import model_from_json\n",
    "from fer_model import get_fer_model\n",
    "import tensorflow as tf\n",
    "import tempfile \n",
    "\n",
    "import numpy as np\n",
    "import pandas as pd\n",
    "import matplotlib.pyplot as plt\n",
    "%matplotlib inline\n",
    "\n",
    "from tensorflow.keras.callbacks import ModelCheckpoint, ReduceLROnPlateau\n",
    "from livelossplot import PlotLossesKerasTF\n",
    "from tensorflow.keras.optimizers import Adam\n",
    "\n",
    "import os\n",
    "import zipfile\n",
    "\n",
    "import tensorflow_model_optimization as tfmot\n",
    "import pickle"
   ]
  },
  {
   "cell_type": "code",
   "execution_count": 2,
   "id": "opposite-negative",
   "metadata": {},
   "outputs": [],
   "source": [
    "import time\n",
    "TIMESTAMP = round(time.time())"
   ]
  },
  {
   "cell_type": "code",
   "execution_count": 3,
   "id": "fifty-pulse",
   "metadata": {},
   "outputs": [],
   "source": [
    "import os\n",
    "os.environ['KMP_DUPLICATE_LIB_OK']='True'"
   ]
  },
  {
   "cell_type": "markdown",
   "id": "cubic-attention",
   "metadata": {},
   "source": [
    "# Loading the CK+ Dataset"
   ]
  },
  {
   "cell_type": "code",
   "execution_count": 4,
   "id": "similar-archive",
   "metadata": {},
   "outputs": [
    {
     "name": "stdout",
     "output_type": "stream",
     "text": [
      "Found 924 images belonging to 8 classes.\n",
      "Found 384 images belonging to 8 classes.\n"
     ]
    }
   ],
   "source": [
    "from data import load_ckplus\n",
    "train_generator = load_ckplus(\"train\")\n",
    "test_generator = load_ckplus(\"test\")"
   ]
  },
  {
   "cell_type": "markdown",
   "id": "useful-capture",
   "metadata": {},
   "source": [
    "# Load Baseline Model"
   ]
  },
  {
   "cell_type": "code",
   "execution_count": 5,
   "id": "collectible-queue",
   "metadata": {},
   "outputs": [],
   "source": [
    "model = get_fer_model()\n",
    "model.load_weights(\"weights/model_weights_1618972642.h5\")"
   ]
  },
  {
   "cell_type": "code",
   "execution_count": 6,
   "id": "material-cooper",
   "metadata": {},
   "outputs": [
    {
     "name": "stdout",
     "output_type": "stream",
     "text": [
      "Baseline model performance:\n"
     ]
    },
    {
     "data": {
      "text/plain": [
       "{'size': 16512044,\n",
       " 'acc': 0.6796875,\n",
       " 'f_acc': 0.6708333333333333,\n",
       " 'm_acc': 0.6944444444444444,\n",
       " 'f_acc_breakdown': [0.5333333333333333,\n",
       "  0.48484848484848486,\n",
       "  1.0,\n",
       "  0.7083333333333334,\n",
       "  0.7142857142857143,\n",
       "  0.9,\n",
       "  0.2,\n",
       "  0.8666666666666667],\n",
       " 'f_acc_balanced': 0.6759334415584417,\n",
       " 'm_acc_breakdown': [0.4166666666666667,\n",
       "  0.4166666666666667,\n",
       "  1.0,\n",
       "  0.9523809523809523,\n",
       "  0.0,\n",
       "  0.75,\n",
       "  0.3333333333333333,\n",
       "  1.0],\n",
       " 'm_acc_balanced': 0.6086309523809523}"
      ]
     },
     "execution_count": 6,
     "metadata": {},
     "output_type": "execute_result"
    }
   ],
   "source": [
    "from evaluation import get_metrics\n",
    "print(\"Baseline model performance:\")\n",
    "get_metrics(model, test_generator)"
   ]
  },
  {
   "cell_type": "markdown",
   "id": "legitimate-venue",
   "metadata": {},
   "source": [
    "# Apply Quantisation to the Baseline Model "
   ]
  },
  {
   "cell_type": "code",
   "execution_count": 7,
   "id": "rubber-jerusalem",
   "metadata": {},
   "outputs": [],
   "source": [
    "converter = tf.lite.TFLiteConverter.from_keras_model(model)\n",
    "# This optimisation includes the quantisation \n",
    "converter.optimizations = [tf.lite.Optimize.DEFAULT]\n",
    "quantized_tflite_model = converter.convert()"
   ]
  },
  {
   "cell_type": "markdown",
   "id": "polish-palestine",
   "metadata": {},
   "source": [
    "# Evaluate"
   ]
  },
  {
   "cell_type": "code",
   "execution_count": 8,
   "id": "aware-logic",
   "metadata": {},
   "outputs": [
    {
     "name": "stdout",
     "output_type": "stream",
     "text": [
      "Evaluated on 0 results so far.\n",
      "Evaluated on 100 results so far.\n",
      "Evaluated on 200 results so far.\n",
      "Evaluated on 300 results so far.\n"
     ]
    }
   ],
   "source": [
    "from evaluation import get_metrics_quantised\n",
    "metrics = get_metrics_quantised(quantized_tflite_model, test_generator)"
   ]
  },
  {
   "cell_type": "code",
   "execution_count": 9,
   "id": "visible-documentary",
   "metadata": {},
   "outputs": [
    {
     "name": "stdout",
     "output_type": "stream",
     "text": [
      "Quantised model performance:\n"
     ]
    },
    {
     "data": {
      "text/plain": [
       "{'size': 4044623,\n",
       " 'acc': 0.6796875,\n",
       " 'f_acc': 0.6708333333333333,\n",
       " 'm_acc': 0.6944444444444444,\n",
       " 'f_acc_breakdown': [0.5333333333333333,\n",
       "  0.48484848484848486,\n",
       "  1.0,\n",
       "  0.7083333333333334,\n",
       "  0.7142857142857143,\n",
       "  0.9,\n",
       "  0.2,\n",
       "  0.8666666666666667],\n",
       " 'f_acc_balanced': 0.6759334415584417,\n",
       " 'm_acc_breakdown': [0.4166666666666667,\n",
       "  0.4166666666666667,\n",
       "  1.0,\n",
       "  0.9523809523809523,\n",
       "  0.0,\n",
       "  0.75,\n",
       "  0.3333333333333333,\n",
       "  1.0],\n",
       " 'm_acc_balanced': 0.6086309523809523}"
      ]
     },
     "execution_count": 9,
     "metadata": {},
     "output_type": "execute_result"
    }
   ],
   "source": [
    "print(\"Quantised model performance:\")\n",
    "metrics"
   ]
  },
  {
   "cell_type": "markdown",
   "id": "floating-protein",
   "metadata": {},
   "source": [
    "### Store results"
   ]
  },
  {
   "cell_type": "code",
   "execution_count": 10,
   "id": "perceived-canberra",
   "metadata": {},
   "outputs": [],
   "source": [
    "with open(\"logs/quantised_model_metrics_%s\" % TIMESTAMP, \n",
    "          'wb') as quantised_model_metrics_file:\n",
    "        pickle.dump(metrics, quantised_model_metrics_file)"
   ]
  }
 ],
 "metadata": {
  "kernelspec": {
   "display_name": "Python 3",
   "language": "python",
   "name": "python3"
  },
  "language_info": {
   "codemirror_mode": {
    "name": "ipython",
    "version": 3
   },
   "file_extension": ".py",
   "mimetype": "text/x-python",
   "name": "python",
   "nbconvert_exporter": "python",
   "pygments_lexer": "ipython3",
   "version": "3.7.10"
  }
 },
 "nbformat": 4,
 "nbformat_minor": 5
}
