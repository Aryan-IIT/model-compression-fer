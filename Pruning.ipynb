{
 "cells": [
  {
   "cell_type": "markdown",
   "id": "trained-firmware",
   "metadata": {},
   "source": [
    "# Importing Libraries"
   ]
  },
  {
   "cell_type": "code",
   "execution_count": 1,
   "id": "south-consciousness",
   "metadata": {},
   "outputs": [],
   "source": [
    "from tensorflow.keras.models import model_from_json\n",
    "from fer_model import get_fer_model\n",
    "import tensorflow as tf\n",
    "import tempfile \n",
    "\n",
    "import numpy as np\n",
    "import pandas as pd\n",
    "import matplotlib.pyplot as plt\n",
    "%matplotlib inline\n",
    "\n",
    "from tensorflow.keras.callbacks import ModelCheckpoint, ReduceLROnPlateau\n",
    "from livelossplot import PlotLossesKerasTF\n",
    "from tensorflow.keras.optimizers import Adam\n",
    "\n",
    "import os\n",
    "import zipfile\n",
    "\n",
    "import tensorflow_model_optimization as tfmot\n",
    "import pickle"
   ]
  },
  {
   "cell_type": "code",
   "execution_count": 2,
   "id": "dominant-equity",
   "metadata": {},
   "outputs": [],
   "source": [
    "from datetime import date\n",
    "TIMESTAMP = str(date.today())"
   ]
  },
  {
   "cell_type": "code",
   "execution_count": 3,
   "id": "reduced-sleep",
   "metadata": {},
   "outputs": [],
   "source": [
    "import os\n",
    "os.environ['KMP_DUPLICATE_LIB_OK']='True'"
   ]
  },
  {
   "cell_type": "markdown",
   "id": "classified-stevens",
   "metadata": {},
   "source": [
    "# Loading the CK+ Dataset"
   ]
  },
  {
   "cell_type": "code",
   "execution_count": 4,
   "id": "artificial-dispute",
   "metadata": {},
   "outputs": [
    {
     "name": "stdout",
     "output_type": "stream",
     "text": [
      "Found 924 images belonging to 8 classes.\n",
      "Found 384 images belonging to 8 classes.\n"
     ]
    }
   ],
   "source": [
    "from data import load_ckplus\n",
    "train_generator = load_ckplus(\"train\")\n",
    "test_generator = load_ckplus(\"test\")"
   ]
  },
  {
   "cell_type": "markdown",
   "id": "medical-english",
   "metadata": {},
   "source": [
    "# Load Baseline Model"
   ]
  },
  {
   "cell_type": "code",
   "execution_count": 5,
   "id": "aging-lincoln",
   "metadata": {},
   "outputs": [],
   "source": [
    "model = get_fer_model()\n",
    "model.load_weights(\"weights/model_weights_2021-04-20.h5\")"
   ]
  },
  {
   "cell_type": "code",
   "execution_count": 6,
   "id": "narrative-rapid",
   "metadata": {},
   "outputs": [
    {
     "name": "stdout",
     "output_type": "stream",
     "text": [
      "Baseline model performance:\n"
     ]
    },
    {
     "data": {
      "text/plain": [
       "{'size': 16512518,\n",
       " 'acc': 0.7109375,\n",
       " 'f_acc': 0.7,\n",
       " 'm_acc': 0.7291666666666666,\n",
       " 'f_acc_breakdown': [0.6666666666666666,\n",
       "  0.5151515151515151,\n",
       "  1.0,\n",
       "  0.7083333333333334,\n",
       "  0.5714285714285714,\n",
       "  0.8666666666666667,\n",
       "  0.26666666666666666,\n",
       "  0.8888888888888888],\n",
       " 'f_acc_balanced': 0.6854752886002886,\n",
       " 'm_acc_breakdown': [0.5277777777777778,\n",
       "  0.25,\n",
       "  1.0,\n",
       "  1.0,\n",
       "  0.0,\n",
       "  0.8333333333333334,\n",
       "  0.3333333333333333,\n",
       "  1.0],\n",
       " 'm_acc_balanced': 0.6180555555555556}"
      ]
     },
     "execution_count": 6,
     "metadata": {},
     "output_type": "execute_result"
    }
   ],
   "source": [
    "from evaluation import get_metrics\n",
    "\n",
    "print(\"Baseline model performance:\")\n",
    "get_metrics(model, test_generator)"
   ]
  },
  {
   "cell_type": "markdown",
   "id": "interracial-reduction",
   "metadata": {},
   "source": [
    "# Apply Pruning"
   ]
  },
  {
   "cell_type": "code",
   "execution_count": 7,
   "id": "bigger-collectible",
   "metadata": {},
   "outputs": [],
   "source": [
    "def prune(model, sparsity=0.8):\n",
    "    \n",
    "    epochs = 2\n",
    "    end_step = np.ceil(train_generator.n / train_generator.batch_size).astype(np.int32) * epochs\n",
    "    \n",
    "    pruning_params = {\n",
    "        'pruning_schedule': tfmot.sparsity.keras.ConstantSparsity(\n",
    "            sparsity, 0, end_step=-1, frequency=32\n",
    "        )\n",
    "    }\n",
    "    model_for_pruning = tfmot.sparsity.keras.prune_low_magnitude(model, **pruning_params)\n",
    "    opt = Adam(lr=0.0005)\n",
    "    model_for_pruning.compile(optimizer=opt, loss='categorical_crossentropy', metrics=['accuracy'])\n",
    "    \n",
    "    # Fine-Tuning \n",
    "    logdir = tempfile.mkdtemp()\n",
    "    print(\"Saving logs to:\", logdir)\n",
    "\n",
    "    steps_per_epoch = train_generator.n//train_generator.batch_size\n",
    "    validation_steps = test_generator.n//test_generator.batch_size\n",
    "\n",
    "    reduce_lr = ReduceLROnPlateau(monitor='val_loss', factor=0.1,\n",
    "                                  patience=2, min_lr=0.00001, mode='auto')\n",
    "    checkpoint_name = \"weights/pruned_model_weights_s%d_%s.h5\" % (sparsity*100, TIMESTAMP)\n",
    "    checkpoint = ModelCheckpoint(checkpoint_name, \n",
    "                                 monitor='val_accuracy', \n",
    "                                 save_weights_only=True, \n",
    "                                 mode='max', verbose=1)\n",
    "    callbacks = [PlotLossesKerasTF(), \n",
    "                 checkpoint, \n",
    "                 reduce_lr, \n",
    "                 tfmot.sparsity.keras.UpdatePruningStep(),\n",
    "                 tfmot.sparsity.keras.PruningSummaries(log_dir=logdir)]\n",
    "\n",
    "    model_for_pruning.fit(\n",
    "        x=train_generator,\n",
    "        steps_per_epoch=steps_per_epoch,\n",
    "        epochs=epochs,\n",
    "        validation_data = test_generator,\n",
    "        validation_steps = validation_steps,\n",
    "        callbacks=callbacks\n",
    "    )\n",
    "    \n",
    "    # Only use the best weights \n",
    "    model_for_pruning.load_weights(checkpoint_name)\n",
    "    model_for_pruning = tfmot.sparsity.keras.strip_pruning(model_for_pruning)\n",
    "    model_for_pruning.compile(optimizer=opt, loss='categorical_crossentropy', metrics=['accuracy'])\n",
    "    return model_for_pruning"
   ]
  },
  {
   "cell_type": "code",
   "execution_count": 9,
   "id": "placed-messenger",
   "metadata": {
    "scrolled": false
   },
   "outputs": [
    {
     "data": {
      "image/png": "[encoded data removed]",
      "text/plain": [
       "<Figure size 864x576 with 2 Axes>"
      ]
     },
     "metadata": {
      "needs_background": "light"
     },
     "output_type": "display_data"
    },
    {
     "name": "stdout",
     "output_type": "stream",
     "text": [
      "accuracy\n",
      "\ttraining         \t (min:    0.804, max:    0.861, cur:    0.861)\n",
      "\tvalidation       \t (min:    0.682, max:    0.742, cur:    0.742)\n",
      "Loss\n",
      "\ttraining         \t (min:    0.387, max:    0.494, cur:    0.387)\n",
      "\tvalidation       \t (min:    0.741, max:    1.011, cur:    0.741)\n",
      "\n",
      "Epoch 00002: saving model to weights/pruned_model_weights_s40_2021-04-20.h5\n",
      "\b\b\b\b\b\b\b\b\b\b\b\b\b\b\b\b\b\b\b\b\b\b\b\b\b\b\b\b\b\b\b\b\b\b\b\b\b\b\b\b\b\b\b\b\b\b\b\b\b\b\b\b\b\b\b\b\b\b\b\b\b\b\b\b\b\b\b\b\b\b\b\b\b\b\b\b\b\b\b\b\b\b\r",
      "28/28 [==============================] - 25s 893ms/step - loss: 0.3858 - accuracy: 0.8610 - val_loss: 0.7413 - val_accuracy: 0.7422\n"
     ]
    }
   ],
   "source": [
    "SPARSITY = 0.4\n",
    "pruned_model = prune(model, sparsity=SPARSITY)"
   ]
  },
  {
   "cell_type": "markdown",
   "id": "artistic-christianity",
   "metadata": {},
   "source": [
    "# Evaluate Pruned Model"
   ]
  },
  {
   "cell_type": "code",
   "execution_count": 10,
   "id": "spoken-birth",
   "metadata": {},
   "outputs": [
    {
     "name": "stdout",
     "output_type": "stream",
     "text": [
      "Model performance after pruning:\n"
     ]
    },
    {
     "data": {
      "text/plain": [
       "{'size': 11730809,\n",
       " 'acc': 0.7421875,\n",
       " 'f_acc': 0.7125,\n",
       " 'm_acc': 0.7916666666666666,\n",
       " 'f_acc_breakdown': [0.6,\n",
       "  0.6060606060606061,\n",
       "  1.0,\n",
       "  0.5416666666666666,\n",
       "  0.5238095238095238,\n",
       "  0.9,\n",
       "  0.7333333333333333,\n",
       "  0.9111111111111111],\n",
       " 'f_acc_balanced': 0.7269976551226551,\n",
       " 'm_acc_breakdown': [0.4722222222222222,\n",
       "  0.6666666666666666,\n",
       "  1.0,\n",
       "  0.7619047619047619,\n",
       "  0.6666666666666666,\n",
       "  0.9583333333333334,\n",
       "  1.0,\n",
       "  1.0],\n",
       " 'm_acc_balanced': 0.8157242063492063}"
      ]
     },
     "execution_count": 10,
     "metadata": {},
     "output_type": "execute_result"
    }
   ],
   "source": [
    "print(\"Model performance after pruning:\")\n",
    "metrics = get_metrics(pruned_model, test_generator)\n",
    "metrics"
   ]
  },
  {
   "cell_type": "markdown",
   "id": "scientific-brown",
   "metadata": {},
   "source": [
    "### Store results"
   ]
  },
  {
   "cell_type": "code",
   "execution_count": 11,
   "id": "polyphonic-monte",
   "metadata": {},
   "outputs": [],
   "source": [
    "with open(\"logs/pruned_model_metrics_s%d_%s.h5\" % (SPARSITY*100, TIMESTAMP), 'wb') as pruned_model_metrics_file:\n",
    "        pickle.dump(metrics, pruned_model_metrics_file)"
   ]
  },
  {
   "cell_type": "markdown",
   "id": "failing-cloud",
   "metadata": {},
   "source": [
    "# Apply Quantisation to the Pruned Model "
   ]
  },
  {
   "cell_type": "code",
   "execution_count": 12,
   "id": "western-contrast",
   "metadata": {},
   "outputs": [],
   "source": [
    "converter = tf.lite.TFLiteConverter.from_keras_model(pruned_model)\n",
    "# This optimisation includes the quantisation \n",
    "converter.optimizations = [tf.lite.Optimize.DEFAULT]\n",
    "quantized_and_pruned_tflite_model = converter.convert()"
   ]
  },
  {
   "cell_type": "markdown",
   "id": "stock-field",
   "metadata": {},
   "source": [
    "# Evaluate Pruned and Quantised Model"
   ]
  },
  {
   "cell_type": "code",
   "execution_count": 25,
   "id": "affected-belfast",
   "metadata": {},
   "outputs": [
    {
     "name": "stdout",
     "output_type": "stream",
     "text": [
      "Evaluated on 0 results so far.\n",
      "Evaluated on 100 results so far.\n",
      "Evaluated on 200 results so far.\n",
      "Evaluated on 300 results so far.\n"
     ]
    }
   ],
   "source": [
    "from evaluation import get_metrics_quantised\n",
    "metrics = get_metrics_quantised(quantized_and_pruned_tflite_model, test_generator)"
   ]
  },
  {
   "cell_type": "code",
   "execution_count": 27,
   "id": "particular-marketing",
   "metadata": {},
   "outputs": [
    {
     "name": "stdout",
     "output_type": "stream",
     "text": [
      "Pruned and quantised model performance:\n"
     ]
    },
    {
     "data": {
      "text/plain": [
       "{'size': 3252599,\n",
       " 'acc': 0.7447916666666666,\n",
       " 'f_acc': 0.7125,\n",
       " 'm_acc': 0.7986111111111112,\n",
       " 'f_acc_breakdown': [0.6,\n",
       "  0.6060606060606061,\n",
       "  1.0,\n",
       "  0.5416666666666666,\n",
       "  0.5238095238095238,\n",
       "  0.9,\n",
       "  0.7333333333333333,\n",
       "  0.9111111111111111],\n",
       " 'f_acc_balanced': 0.7269976551226551,\n",
       " 'm_acc_breakdown': [0.4722222222222222,\n",
       "  0.6666666666666666,\n",
       "  1.0,\n",
       "  0.7619047619047619,\n",
       "  0.6666666666666666,\n",
       "  1.0,\n",
       "  1.0,\n",
       "  1.0],\n",
       " 'm_acc_balanced': 0.8209325396825397}"
      ]
     },
     "execution_count": 27,
     "metadata": {},
     "output_type": "execute_result"
    }
   ],
   "source": [
    "print(\"Pruned and quantised model performance:\")\n",
    "metrics"
   ]
  },
  {
   "cell_type": "markdown",
   "id": "southern-psychology",
   "metadata": {},
   "source": [
    "### Store results"
   ]
  },
  {
   "cell_type": "code",
   "execution_count": 28,
   "id": "nonprofit-bishop",
   "metadata": {},
   "outputs": [],
   "source": [
    "with open(\"logs/pruned_and_quantised_model_metrics_s%d_%s.h5\" % (SPARSITY*100, TIMESTAMP), \n",
    "          'wb') as pruned_and_quantised_model_metrics_file:\n",
    "        pickle.dump(metrics, pruned_and_quantised_model_metrics_file)"
   ]
  }
 ],
 "metadata": {
  "kernelspec": {
   "display_name": "Python 3",
   "language": "python",
   "name": "python3"
  },
  "language_info": {
   "codemirror_mode": {
    "name": "ipython",
    "version": 3
   },
   "file_extension": ".py",
   "mimetype": "text/x-python",
   "name": "python",
   "nbconvert_exporter": "python",
   "pygments_lexer": "ipython3",
   "version": "3.7.10"
  }
 },
 "nbformat": 4,
 "nbformat_minor": 5
}
