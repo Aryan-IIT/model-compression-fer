{
 "cells": [
  {
   "cell_type": "markdown",
   "id": "contained-assumption",
   "metadata": {},
   "source": [
    "# Importing Libraries"
   ]
  },
  {
   "cell_type": "code",
   "execution_count": 1,
   "id": "growing-release",
   "metadata": {},
   "outputs": [],
   "source": [
    "from tensorflow.keras.models import model_from_json\n",
    "from fer_model import get_fer_model\n",
    "import tensorflow as tf\n",
    "import tempfile \n",
    "\n",
    "import numpy as np\n",
    "import pandas as pd\n",
    "import matplotlib.pyplot as plt\n",
    "%matplotlib inline\n",
    "\n",
    "from tensorflow.keras.callbacks import ModelCheckpoint, ReduceLROnPlateau\n",
    "from livelossplot import PlotLossesKerasTF\n",
    "from tensorflow.keras.optimizers import Adam\n",
    "\n",
    "import os\n",
    "import zipfile\n",
    "\n",
    "import tensorflow_model_optimization as tfmot\n",
    "import pickle"
   ]
  },
  {
   "cell_type": "code",
   "execution_count": 2,
   "id": "centered-interview",
   "metadata": {},
   "outputs": [
    {
     "name": "stdout",
     "output_type": "stream",
     "text": [
      "Timestamp is 1619011512\n"
     ]
    }
   ],
   "source": [
    "import time\n",
    "TIMESTAMP = round(time.time())\n",
    "print(\"Timestamp is\", TIMESTAMP)\n",
    "SPARSITY = 0.1"
   ]
  },
  {
   "cell_type": "code",
   "execution_count": 3,
   "id": "expensive-apparatus",
   "metadata": {},
   "outputs": [],
   "source": [
    "import os\n",
    "os.environ['KMP_DUPLICATE_LIB_OK']='True'"
   ]
  },
  {
   "cell_type": "markdown",
   "id": "fatty-couple",
   "metadata": {},
   "source": [
    "# Loading the CK+ Dataset"
   ]
  },
  {
   "cell_type": "code",
   "execution_count": 4,
   "id": "mexican-identity",
   "metadata": {},
   "outputs": [
    {
     "name": "stdout",
     "output_type": "stream",
     "text": [
      "Found 924 images belonging to 8 classes.\n",
      "Found 384 images belonging to 8 classes.\n"
     ]
    }
   ],
   "source": [
    "from data import load_ckplus\n",
    "train_generator = load_ckplus(\"train\")\n",
    "test_generator = load_ckplus(\"test\")"
   ]
  },
  {
   "cell_type": "markdown",
   "id": "operating-machinery",
   "metadata": {},
   "source": [
    "# Load Baseline Model"
   ]
  },
  {
   "cell_type": "code",
   "execution_count": 5,
   "id": "latin-chorus",
   "metadata": {},
   "outputs": [],
   "source": [
    "model = get_fer_model()\n",
    "model.load_weights(\"weights/model_weights_1618972642.h5\")"
   ]
  },
  {
   "cell_type": "code",
   "execution_count": 6,
   "id": "realistic-terrorism",
   "metadata": {
    "scrolled": false
   },
   "outputs": [
    {
     "name": "stdout",
     "output_type": "stream",
     "text": [
      "Baseline model performance:\n"
     ]
    },
    {
     "data": {
      "text/plain": [
       "{'size': 16512046,\n",
       " 'acc': 0.6796875,\n",
       " 'f_acc': 0.6708333333333333,\n",
       " 'm_acc': 0.6944444444444444,\n",
       " 'f_acc_breakdown': [0.5333333333333333,\n",
       "  0.48484848484848486,\n",
       "  1.0,\n",
       "  0.7083333333333334,\n",
       "  0.7142857142857143,\n",
       "  0.9,\n",
       "  0.2,\n",
       "  0.8666666666666667],\n",
       " 'f_acc_balanced': 0.6759334415584417,\n",
       " 'm_acc_breakdown': [0.4166666666666667,\n",
       "  0.4166666666666667,\n",
       "  1.0,\n",
       "  0.9523809523809523,\n",
       "  0.0,\n",
       "  0.75,\n",
       "  0.3333333333333333,\n",
       "  1.0],\n",
       " 'm_acc_balanced': 0.6086309523809523}"
      ]
     },
     "execution_count": 6,
     "metadata": {},
     "output_type": "execute_result"
    }
   ],
   "source": [
    "from evaluation import get_metrics\n",
    "\n",
    "print(\"Baseline model performance:\")\n",
    "get_metrics(model, test_generator)"
   ]
  },
  {
   "cell_type": "markdown",
   "id": "legal-anxiety",
   "metadata": {},
   "source": [
    "# Apply Pruning"
   ]
  },
  {
   "cell_type": "code",
   "execution_count": 7,
   "id": "synthetic-flavor",
   "metadata": {},
   "outputs": [],
   "source": [
    "def prune(model, sparsity=0.8):\n",
    "    \n",
    "    epochs = 2\n",
    "    \n",
    "    pruning_params = {\n",
    "        'pruning_schedule': tfmot.sparsity.keras.ConstantSparsity(\n",
    "            sparsity, 0, end_step=-1, frequency=32\n",
    "        )\n",
    "    }\n",
    "    model_for_pruning = tfmot.sparsity.keras.prune_low_magnitude(model, **pruning_params)\n",
    "    opt = Adam(lr=0.0005)\n",
    "    model_for_pruning.compile(optimizer=opt, loss='categorical_crossentropy', metrics=['accuracy'])\n",
    "    \n",
    "    # Fine-Tuning \n",
    "    logdir = tempfile.mkdtemp()\n",
    "    print(\"Saving logs to:\", logdir)\n",
    "\n",
    "    steps_per_epoch = train_generator.n//train_generator.batch_size\n",
    "    validation_steps = test_generator.n//test_generator.batch_size\n",
    "\n",
    "    reduce_lr = ReduceLROnPlateau(monitor='val_loss', factor=0.1,\n",
    "                                  patience=2, min_lr=0.00001, mode='auto')\n",
    "    checkpoint_name = \"weights/pruned_model_weights_s%d_%s.h5\" % (sparsity*100, TIMESTAMP)\n",
    "    checkpoint = ModelCheckpoint(checkpoint_name, \n",
    "                                 monitor='val_accuracy', \n",
    "                                 save_weights_only=True,\n",
    "                                 save_best_only=True,\n",
    "                                 mode='max', verbose=1)\n",
    "    callbacks = [PlotLossesKerasTF(), \n",
    "                 checkpoint, \n",
    "                 reduce_lr, \n",
    "                 tfmot.sparsity.keras.UpdatePruningStep(),\n",
    "                 tfmot.sparsity.keras.PruningSummaries(log_dir=logdir)]\n",
    "\n",
    "    model_for_pruning.fit(\n",
    "        x=train_generator,\n",
    "        steps_per_epoch=steps_per_epoch,\n",
    "        epochs=epochs,\n",
    "        validation_data = test_generator,\n",
    "        validation_steps = validation_steps,\n",
    "        callbacks=callbacks\n",
    "    )\n",
    "    \n",
    "    # Only use the best weights \n",
    "    model_for_pruning.load_weights(checkpoint_name)\n",
    "    model_for_pruning = tfmot.sparsity.keras.strip_pruning(model_for_pruning)\n",
    "    model_for_pruning.compile(optimizer=opt, loss='categorical_crossentropy', metrics=['accuracy'])\n",
    "    return model_for_pruning"
   ]
  },
  {
   "cell_type": "code",
   "execution_count": 8,
   "id": "removed-poster",
   "metadata": {
    "scrolled": false
   },
   "outputs": [
    {
     "data": {
      "image/png": "[encoded data removed]",
      "text/plain": [
       "<Figure size 864x576 with 2 Axes>"
      ]
     },
     "metadata": {
      "needs_background": "light"
     },
     "output_type": "display_data"
    },
    {
     "name": "stdout",
     "output_type": "stream",
     "text": [
      "accuracy\n",
      "\ttraining         \t (min:    0.752, max:    0.761, cur:    0.761)\n",
      "\tvalidation       \t (min:    0.625, max:    0.669, cur:    0.625)\n",
      "Loss\n",
      "\ttraining         \t (min:    0.608, max:    0.665, cur:    0.608)\n",
      "\tvalidation       \t (min:    0.981, max:    1.192, cur:    1.192)\n",
      "\n",
      "Epoch 00002: val_accuracy did not improve from 0.66927\n",
      "\b\b\b\b\b\b\b\b\b\b\b\b\b\b\b\b\b\b\b\b\b\b\b\b\b\b\b\b\b\b\b\b\b\b\b\b\b\b\b\b\b\b\b\b\b\b\b\b\b\b\b\b\b\b\b\b\b\b\b\b\b\b\b\b\b\b\b\b\b\b\b\b\b\b\b\b\b\b\b\b\b\b\r",
      "28/28 [==============================] - 25s 898ms/step - loss: 0.6080 - accuracy: 0.7612 - val_loss: 1.1916 - val_accuracy: 0.6250\n"
     ]
    }
   ],
   "source": [
    "pruned_model = prune(model, sparsity=SPARSITY)"
   ]
  },
  {
   "cell_type": "markdown",
   "id": "first-saver",
   "metadata": {},
   "source": [
    "# Evaluate Pruned Model"
   ]
  },
  {
   "cell_type": "code",
   "execution_count": 9,
   "id": "french-abuse",
   "metadata": {},
   "outputs": [
    {
     "name": "stdout",
     "output_type": "stream",
     "text": [
      "Model performance after pruning:\n"
     ]
    },
    {
     "data": {
      "text/plain": [
       "{'size': 15551814,\n",
       " 'acc': 0.6692708333333334,\n",
       " 'f_acc': 0.5958333333333333,\n",
       " 'm_acc': 0.7916666666666666,\n",
       " 'f_acc_breakdown': [0.7333333333333333,\n",
       "  0.30303030303030304,\n",
       "  0.25,\n",
       "  0.6666666666666666,\n",
       "  0.14285714285714285,\n",
       "  0.8,\n",
       "  0.2,\n",
       "  0.8888888888888888],\n",
       " 'f_acc_balanced': 0.4980970418470419,\n",
       " 'm_acc_breakdown': [0.6944444444444444,\n",
       "  0.0,\n",
       "  1.0,\n",
       "  1.0,\n",
       "  0.0,\n",
       "  0.9583333333333334,\n",
       "  0.6666666666666666,\n",
       "  1.0],\n",
       " 'm_acc_balanced': 0.6649305555555556}"
      ]
     },
     "execution_count": 9,
     "metadata": {},
     "output_type": "execute_result"
    }
   ],
   "source": [
    "print(\"Model performance after pruning:\")\n",
    "metrics = get_metrics(pruned_model, test_generator)\n",
    "metrics"
   ]
  },
  {
   "cell_type": "markdown",
   "id": "taken-drain",
   "metadata": {},
   "source": [
    "### Store results"
   ]
  },
  {
   "cell_type": "code",
   "execution_count": 10,
   "id": "boolean-observer",
   "metadata": {},
   "outputs": [],
   "source": [
    "with open(\"logs/pruned_model_metrics_s%d_%s\" % (SPARSITY*100, TIMESTAMP), 'wb') as pruned_model_metrics_file:\n",
    "        pickle.dump(metrics, pruned_model_metrics_file)"
   ]
  },
  {
   "cell_type": "markdown",
   "id": "civil-salad",
   "metadata": {},
   "source": [
    "# Apply Quantisation to the Pruned Model "
   ]
  },
  {
   "cell_type": "code",
   "execution_count": 11,
   "id": "stable-average",
   "metadata": {},
   "outputs": [],
   "source": [
    "converter = tf.lite.TFLiteConverter.from_keras_model(pruned_model)\n",
    "# This optimisation includes the quantisation \n",
    "converter.optimizations = [tf.lite.Optimize.DEFAULT]\n",
    "quantized_and_pruned_tflite_model = converter.convert()"
   ]
  },
  {
   "cell_type": "markdown",
   "id": "prescribed-rally",
   "metadata": {},
   "source": [
    "# Evaluate Pruned and Quantised Model"
   ]
  },
  {
   "cell_type": "code",
   "execution_count": 12,
   "id": "local-tumor",
   "metadata": {},
   "outputs": [
    {
     "name": "stdout",
     "output_type": "stream",
     "text": [
      "Evaluated on 0 results so far.\n",
      "Evaluated on 100 results so far.\n",
      "Evaluated on 200 results so far.\n",
      "Evaluated on 300 results so far.\n"
     ]
    }
   ],
   "source": [
    "from evaluation import get_metrics_quantised\n",
    "metrics = get_metrics_quantised(quantized_and_pruned_tflite_model, test_generator)"
   ]
  },
  {
   "cell_type": "code",
   "execution_count": 13,
   "id": "domestic-brown",
   "metadata": {},
   "outputs": [
    {
     "name": "stdout",
     "output_type": "stream",
     "text": [
      "Pruned and quantised model performance:\n"
     ]
    },
    {
     "data": {
      "text/plain": [
       "{'size': 3922027,\n",
       " 'acc': 0.6692708333333334,\n",
       " 'f_acc': 0.5958333333333333,\n",
       " 'm_acc': 0.7916666666666666,\n",
       " 'f_acc_breakdown': [0.7333333333333333,\n",
       "  0.30303030303030304,\n",
       "  0.25,\n",
       "  0.6666666666666666,\n",
       "  0.14285714285714285,\n",
       "  0.8,\n",
       "  0.2,\n",
       "  0.8888888888888888],\n",
       " 'f_acc_balanced': 0.4980970418470419,\n",
       " 'm_acc_breakdown': [0.6944444444444444,\n",
       "  0.0,\n",
       "  1.0,\n",
       "  1.0,\n",
       "  0.0,\n",
       "  0.9583333333333334,\n",
       "  0.6666666666666666,\n",
       "  1.0],\n",
       " 'm_acc_balanced': 0.6649305555555556}"
      ]
     },
     "execution_count": 13,
     "metadata": {},
     "output_type": "execute_result"
    }
   ],
   "source": [
    "print(\"Pruned and quantised model performance:\")\n",
    "metrics"
   ]
  },
  {
   "cell_type": "markdown",
   "id": "permanent-camera",
   "metadata": {},
   "source": [
    "### Store results"
   ]
  },
  {
   "cell_type": "code",
   "execution_count": 14,
   "id": "detailed-romance",
   "metadata": {},
   "outputs": [],
   "source": [
    "with open(\"logs/pruned_and_quantised_model_metrics_s%d_%s\" % (SPARSITY*100, TIMESTAMP), \n",
    "          'wb') as pruned_and_quantised_model_metrics_file:\n",
    "        pickle.dump(metrics, pruned_and_quantised_model_metrics_file)"
   ]
  }
 ],
 "metadata": {
  "kernelspec": {
   "display_name": "Python 3",
   "language": "python",
   "name": "python3"
  },
  "language_info": {
   "codemirror_mode": {
    "name": "ipython",
    "version": 3
   },
   "file_extension": ".py",
   "mimetype": "text/x-python",
   "name": "python",
   "nbconvert_exporter": "python",
   "pygments_lexer": "ipython3",
   "version": "3.7.10"
  }
 },
 "nbformat": 4,
 "nbformat_minor": 5
}
