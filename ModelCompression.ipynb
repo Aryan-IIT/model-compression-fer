{
 "cells": [
  {
   "cell_type": "markdown",
   "id": "consecutive-prerequisite",
   "metadata": {},
   "source": [
    "# Importing Libraries"
   ]
  },
  {
   "cell_type": "code",
   "execution_count": 4,
   "id": "sweet-forestry",
   "metadata": {},
   "outputs": [],
   "source": [
    "from tensorflow.keras.models import model_from_json\n",
    "from fer_model import get_fer_model\n",
    "import tensorflow as tf\n",
    "import tempfile \n",
    "\n",
    "import matplotlib.pyplot as plt\n",
    "%matplotlib inline\n",
    "\n",
    "from tensorflow.keras.callbacks import ModelCheckpoint, ReduceLROnPlateau\n",
    "from livelossplot import PlotLossesKerasTF"
   ]
  },
  {
   "cell_type": "markdown",
   "id": "polish-affiliation",
   "metadata": {},
   "source": [
    "# Loading the CK+ Dataset"
   ]
  },
  {
   "cell_type": "code",
   "execution_count": 2,
   "id": "russian-patient",
   "metadata": {},
   "outputs": [
    {
     "name": "stdout",
     "output_type": "stream",
     "text": [
      "Found 1050 images belonging to 8 classes.\n",
      "Found 258 images belonging to 8 classes.\n"
     ]
    }
   ],
   "source": [
    "from tensorflow.keras.preprocessing.image import ImageDataGenerator\n",
    "DATASET_DIR = \"/Users/samuilstoychev/ckplus_cropped/\"\n",
    "\n",
    "img_size = 48\n",
    "batch_size = 32\n",
    "\n",
    "datagen_train = ImageDataGenerator(horizontal_flip=True)\n",
    "train_generator = datagen_train.flow_from_directory(DATASET_DIR + \"train/\",\n",
    "                                                    target_size=(img_size,img_size),\n",
    "                                                    color_mode=\"grayscale\",\n",
    "                                                    batch_size=batch_size,\n",
    "                                                    class_mode='categorical',\n",
    "                                                    shuffle=True)\n",
    "\n",
    "datagen_validation = ImageDataGenerator(horizontal_flip=True)\n",
    "validation_generator = datagen_validation.flow_from_directory(DATASET_DIR + \"test/\",\n",
    "                                                    target_size=(img_size,img_size),\n",
    "                                                    color_mode=\"grayscale\",\n",
    "                                                    batch_size=batch_size,\n",
    "                                                    class_mode='categorical',\n",
    "                                                    shuffle=True)"
   ]
  },
  {
   "cell_type": "markdown",
   "id": "analyzed-girlfriend",
   "metadata": {},
   "source": [
    "# 1. Load the Trained Baseline Model \n",
    "Trained and stored in the `ModelTraining` Jupyter Notebook. "
   ]
  },
  {
   "cell_type": "code",
   "execution_count": 3,
   "id": "endless-piece",
   "metadata": {},
   "outputs": [],
   "source": [
    "model = get_fer_model()\n",
    "model.load_weights(\"model_weights.h5\")"
   ]
  },
  {
   "cell_type": "code",
   "execution_count": 4,
   "id": "adapted-trading",
   "metadata": {},
   "outputs": [
    {
     "name": "stdout",
     "output_type": "stream",
     "text": [
      "BASELINE ACCURACY!\n",
      "9/9 [==============================] - 3s 340ms/step - loss: 0.5191 - accuracy: 0.8101\n"
     ]
    },
    {
     "data": {
      "text/plain": [
       "[0.5191005700164371, 0.81007755]"
      ]
     },
     "execution_count": 4,
     "metadata": {},
     "output_type": "execute_result"
    }
   ],
   "source": [
    "print(\"BASELINE ACCURACY!\")\n",
    "model.evaluate(validation_generator)"
   ]
  },
  {
   "cell_type": "markdown",
   "id": "federal-angola",
   "metadata": {},
   "source": [
    "### Store baseline as a file (for future reference). "
   ]
  },
  {
   "cell_type": "code",
   "execution_count": 5,
   "id": "infrared-christian",
   "metadata": {},
   "outputs": [
    {
     "name": "stdout",
     "output_type": "stream",
     "text": [
      "Saved baseline model to: /var/folders/vg/_5hx2l0n6n99wl67355lydtr0000gn/T/tmpk8zpxnfv.h5\n"
     ]
    }
   ],
   "source": [
    "_, keras_file = tempfile.mkstemp('.h5')\n",
    "tf.keras.models.save_model(model, keras_file, include_optimizer=False)\n",
    "print('Saved baseline model to:', keras_file)"
   ]
  },
  {
   "cell_type": "markdown",
   "id": "inappropriate-speaker",
   "metadata": {},
   "source": [
    "# 2. Apply Compression"
   ]
  },
  {
   "cell_type": "code",
   "execution_count": 6,
   "id": "obvious-association",
   "metadata": {},
   "outputs": [],
   "source": [
    "import tensorflow_model_optimization as tfmot"
   ]
  },
  {
   "cell_type": "code",
   "execution_count": 7,
   "id": "announced-press",
   "metadata": {},
   "outputs": [],
   "source": [
    "prune_low_magnitude = tfmot.sparsity.keras.prune_low_magnitude"
   ]
  },
  {
   "cell_type": "markdown",
   "id": "stable-montana",
   "metadata": {},
   "source": [
    "# Note: Need to calculate `begin_step` and `end_step` properly! "
   ]
  },
  {
   "cell_type": "code",
   "execution_count": 8,
   "id": "suitable-static",
   "metadata": {},
   "outputs": [],
   "source": [
    "pruning_params = {\n",
    "    'pruning_schedule': tfmot.sparsity.keras.PolynomialDecay(initial_sparsity=0.50,\n",
    "                                                            final_sparsity=0.80, \n",
    "                                                            begin_step=0, \n",
    "                                                            end_step=1000)\n",
    "}   "
   ]
  },
  {
   "cell_type": "code",
   "execution_count": 9,
   "id": "metallic-butterfly",
   "metadata": {},
   "outputs": [
    {
     "name": "stdout",
     "output_type": "stream",
     "text": [
      "WARNING:tensorflow:From /Users/samuilstoychev/opt/anaconda3/envs/l44/lib/python3.7/site-packages/tensorflow_model_optimization/python/core/sparsity/keras/pruning_wrapper.py:200: Layer.add_variable (from tensorflow.python.keras.engine.base_layer) is deprecated and will be removed in a future version.\n",
      "Instructions for updating:\n",
      "Please use `layer.add_weight` method instead.\n"
     ]
    }
   ],
   "source": [
    "model_for_pruning = prune_low_magnitude(model, **pruning_params)"
   ]
  },
  {
   "cell_type": "code",
   "execution_count": 10,
   "id": "plain-walnut",
   "metadata": {},
   "outputs": [
    {
     "name": "stdout",
     "output_type": "stream",
     "text": [
      "Model: \"sequential\"\n",
      "_________________________________________________________________\n",
      "Layer (type)                 Output Shape              Param #   \n",
      "=================================================================\n",
      "prune_low_magnitude_conv2d ( (None, 48, 48, 64)        1218      \n",
      "_________________________________________________________________\n",
      "prune_low_magnitude_batch_no (None, 48, 48, 64)        257       \n",
      "_________________________________________________________________\n",
      "prune_low_magnitude_activati (None, 48, 48, 64)        1         \n",
      "_________________________________________________________________\n",
      "prune_low_magnitude_max_pool (None, 24, 24, 64)        1         \n",
      "_________________________________________________________________\n",
      "prune_low_magnitude_dropout  (None, 24, 24, 64)        1         \n",
      "_________________________________________________________________\n",
      "prune_low_magnitude_conv2d_1 (None, 24, 24, 128)       409730    \n",
      "_________________________________________________________________\n",
      "prune_low_magnitude_batch_no (None, 24, 24, 128)       513       \n",
      "_________________________________________________________________\n",
      "prune_low_magnitude_activati (None, 24, 24, 128)       1         \n",
      "_________________________________________________________________\n",
      "prune_low_magnitude_max_pool (None, 12, 12, 128)       1         \n",
      "_________________________________________________________________\n",
      "prune_low_magnitude_dropout_ (None, 12, 12, 128)       1         \n",
      "_________________________________________________________________\n",
      "prune_low_magnitude_conv2d_2 (None, 12, 12, 512)       1180162   \n",
      "_________________________________________________________________\n",
      "prune_low_magnitude_batch_no (None, 12, 12, 512)       2049      \n",
      "_________________________________________________________________\n",
      "prune_low_magnitude_activati (None, 12, 12, 512)       1         \n",
      "_________________________________________________________________\n",
      "prune_low_magnitude_max_pool (None, 6, 6, 512)         1         \n",
      "_________________________________________________________________\n",
      "prune_low_magnitude_dropout_ (None, 6, 6, 512)         1         \n",
      "_________________________________________________________________\n",
      "prune_low_magnitude_conv2d_3 (None, 6, 6, 512)         4719106   \n",
      "_________________________________________________________________\n",
      "prune_low_magnitude_batch_no (None, 6, 6, 512)         2049      \n",
      "_________________________________________________________________\n",
      "prune_low_magnitude_activati (None, 6, 6, 512)         1         \n",
      "_________________________________________________________________\n",
      "prune_low_magnitude_max_pool (None, 3, 3, 512)         1         \n",
      "_________________________________________________________________\n",
      "prune_low_magnitude_dropout_ (None, 3, 3, 512)         1         \n",
      "_________________________________________________________________\n",
      "prune_low_magnitude_flatten  (None, 4608)              1         \n",
      "_________________________________________________________________\n",
      "prune_low_magnitude_dense (P (None, 256)               2359554   \n",
      "_________________________________________________________________\n",
      "prune_low_magnitude_batch_no (None, 256)               1025      \n",
      "_________________________________________________________________\n",
      "prune_low_magnitude_activati (None, 256)               1         \n",
      "_________________________________________________________________\n",
      "prune_low_magnitude_dropout_ (None, 256)               1         \n",
      "_________________________________________________________________\n",
      "prune_low_magnitude_dense_1  (None, 512)               262658    \n",
      "_________________________________________________________________\n",
      "prune_low_magnitude_batch_no (None, 512)               2049      \n",
      "_________________________________________________________________\n",
      "prune_low_magnitude_activati (None, 512)               1         \n",
      "_________________________________________________________________\n",
      "prune_low_magnitude_dropout_ (None, 512)               1         \n",
      "_________________________________________________________________\n",
      "prune_low_magnitude_dense_2  (None, 8)                 8202      \n",
      "=================================================================\n",
      "Total params: 8,948,589\n",
      "Trainable params: 4,475,272\n",
      "Non-trainable params: 4,473,317\n",
      "_________________________________________________________________\n"
     ]
    }
   ],
   "source": [
    "from tensorflow.keras.optimizers import Adam\n",
    "opt = Adam(lr=0.0005)\n",
    "\n",
    "model_for_pruning.compile(optimizer=opt, loss='categorical_crossentropy', metrics=['accuracy'])\n",
    "\n",
    "model_for_pruning.summary()"
   ]
  },
  {
   "cell_type": "markdown",
   "id": "worth-assumption",
   "metadata": {},
   "source": [
    "### Note: Export this to a function in a separate file. "
   ]
  },
  {
   "cell_type": "markdown",
   "id": "improving-pontiac",
   "metadata": {},
   "source": [
    "## NOTE: Replicate training process more accurately! \n",
    "E.g., add `steps_per_epoch`. "
   ]
  },
  {
   "cell_type": "markdown",
   "id": "heavy-small",
   "metadata": {},
   "source": [
    "# FINE-TUNING!!! \n",
    "**TODO:** Fix the weight saving! "
   ]
  },
  {
   "cell_type": "code",
   "execution_count": 11,
   "id": "rental-correlation",
   "metadata": {},
   "outputs": [
    {
     "data": {
      "image/png": "[encoded data removed]",
      "text/plain": [
       "<Figure size 864x576 with 2 Axes>"
      ]
     },
     "metadata": {
      "needs_background": "light"
     },
     "output_type": "display_data"
    },
    {
     "name": "stdout",
     "output_type": "stream",
     "text": [
      "accuracy\n",
      "\ttraining         \t (min:    0.842, max:    0.947, cur:    0.947)\n",
      "\tvalidation       \t (min:    0.375, max:    0.711, cur:    0.711)\n",
      "Loss\n",
      "\ttraining         \t (min:    0.181, max:    0.435, cur:    0.181)\n",
      "\tvalidation       \t (min:    0.639, max:    2.874, cur:    0.639)\n",
      "\n",
      "Epoch 00006: saving model to pruned_model_weights.h5\n",
      "32/32 [==============================] - 26s 807ms/step - loss: 0.1818 - accuracy: 0.9470 - val_loss: 0.6394 - val_accuracy: 0.7109\n",
      "CPU times: user 6min 18s, sys: 2min 35s, total: 8min 54s\n",
      "Wall time: 2min 50s\n"
     ]
    }
   ],
   "source": [
    "# %%time\n",
    "\n",
    "# logdir = tempfile.mkdtemp()\n",
    "\n",
    "# epochs = 6\n",
    "# steps_per_epoch = train_generator.n//train_generator.batch_size\n",
    "# validation_steps = validation_generator.n//validation_generator.batch_size\n",
    "\n",
    "# reduce_lr = ReduceLROnPlateau(monitor='val_loss', factor=0.1,\n",
    "#                               patience=2, min_lr=0.00001, mode='auto')\n",
    "# checkpoint = ModelCheckpoint(\"pruned_model_weights.h5\", monitor='val_accuracy',\n",
    "#                              save_weights_only=True, mode='max', verbose=1)\n",
    "# callbacks = [PlotLossesKerasTF(), \n",
    "#              checkpoint, \n",
    "#              reduce_lr, \n",
    "#              tfmot.sparsity.keras.UpdatePruningStep(),\n",
    "#              tfmot.sparsity.keras.PruningSummaries(log_dir=logdir)]\n",
    "\n",
    "# history = model_for_pruning.fit(\n",
    "#     x=train_generator,\n",
    "#     steps_per_epoch=steps_per_epoch,\n",
    "#     epochs=epochs,\n",
    "#     validation_data = validation_generator,\n",
    "#     validation_steps = validation_steps,\n",
    "#     callbacks=callbacks\n",
    "# )"
   ]
  },
  {
   "cell_type": "markdown",
   "id": "animated-brand",
   "metadata": {},
   "source": [
    "# Load the best weights (from fine-tuning)"
   ]
  },
  {
   "cell_type": "code",
   "execution_count": 12,
   "id": "touched-reduction",
   "metadata": {},
   "outputs": [],
   "source": [
    "model_for_pruning.load_weights(\"pruned_model_weights.h5\")"
   ]
  },
  {
   "cell_type": "code",
   "execution_count": 13,
   "id": "pointed-theater",
   "metadata": {},
   "outputs": [
    {
     "name": "stdout",
     "output_type": "stream",
     "text": [
      "9/9 [==============================] - 2s 265ms/step - loss: 0.5784 - accuracy: 0.7171\n"
     ]
    },
    {
     "data": {
      "text/plain": [
       "[0.5783951559828387, 0.71705425]"
      ]
     },
     "execution_count": 13,
     "metadata": {},
     "output_type": "execute_result"
    }
   ],
   "source": [
    "model_for_pruning.evaluate(validation_generator)"
   ]
  },
  {
   "cell_type": "code",
   "execution_count": null,
   "id": "lovely-syndrome",
   "metadata": {},
   "outputs": [],
   "source": []
  },
  {
   "cell_type": "code",
   "execution_count": null,
   "id": "labeled-matrix",
   "metadata": {},
   "outputs": [],
   "source": []
  },
  {
   "cell_type": "code",
   "execution_count": 14,
   "id": "matched-gallery",
   "metadata": {},
   "outputs": [],
   "source": [
    "# logdir = tempfile.mkdtemp()\n",
    "\n",
    "# callbacks = [\n",
    "#   tfmot.sparsity.keras.UpdatePruningStep(),\n",
    "#   tfmot.sparsity.keras.PruningSummaries(log_dir=logdir),\n",
    "# ]\n",
    "\n",
    "# pruning_history = model_for_pruning.fit(\n",
    "#     x=train_generator,\n",
    "#     epochs=2,\n",
    "#     validation_data = validation_generator,\n",
    "#     callbacks=callbacks\n",
    "# )"
   ]
  },
  {
   "cell_type": "code",
   "execution_count": 15,
   "id": "peripheral-saskatchewan",
   "metadata": {},
   "outputs": [
    {
     "name": "stdout",
     "output_type": "stream",
     "text": [
      "Saved pruned Keras model to: /var/folders/vg/_5hx2l0n6n99wl67355lydtr0000gn/T/tmpyistwsq9.h5\n"
     ]
    }
   ],
   "source": [
    "model_for_export = tfmot.sparsity.keras.strip_pruning(model_for_pruning)\n",
    "\n",
    "_, pruned_keras_file = tempfile.mkstemp('.h5')\n",
    "tf.keras.models.save_model(model_for_export, pruned_keras_file, include_optimizer=False)\n",
    "print('Saved pruned Keras model to:', pruned_keras_file)"
   ]
  },
  {
   "cell_type": "code",
   "execution_count": 16,
   "id": "virgin-trash",
   "metadata": {},
   "outputs": [
    {
     "name": "stdout",
     "output_type": "stream",
     "text": [
      "Saved pruned TFLite model to: /var/folders/vg/_5hx2l0n6n99wl67355lydtr0000gn/T/tmp6uaxno_b.tflite\n"
     ]
    }
   ],
   "source": [
    "converter = tf.lite.TFLiteConverter.from_keras_model(model_for_export)\n",
    "pruned_tflite_model = converter.convert()\n",
    "\n",
    "_, pruned_tflite_file = tempfile.mkstemp('.tflite')\n",
    "\n",
    "with open(pruned_tflite_file, 'wb') as f:\n",
    "    f.write(pruned_tflite_model)\n",
    "\n",
    "print('Saved pruned TFLite model to:', pruned_tflite_file)"
   ]
  },
  {
   "cell_type": "code",
   "execution_count": 17,
   "id": "complimentary-clear",
   "metadata": {},
   "outputs": [],
   "source": [
    "def get_gzipped_model_size(file):\n",
    "    # Returns size of gzipped model, in bytes.\n",
    "    import os\n",
    "    import zipfile\n",
    "\n",
    "    _, zipped_file = tempfile.mkstemp('.zip')\n",
    "    with zipfile.ZipFile(zipped_file, 'w', compression=zipfile.ZIP_DEFLATED) as f:\n",
    "        f.write(file)\n",
    "\n",
    "    return os.path.getsize(zipped_file)"
   ]
  },
  {
   "cell_type": "code",
   "execution_count": 18,
   "id": "rocky-finland",
   "metadata": {},
   "outputs": [
    {
     "name": "stdout",
     "output_type": "stream",
     "text": [
      "Size of gzipped baseline Keras model: 16523420.00 bytes\n",
      "Size of gzipped pruned Keras model: 8906421.00 bytes\n",
      "Size of gzipped pruned TFlite model: 8863840.00 bytes\n"
     ]
    }
   ],
   "source": [
    "print(\"Size of gzipped baseline Keras model: %.2f bytes\" % (get_gzipped_model_size(keras_file)))\n",
    "print(\"Size of gzipped pruned Keras model: %.2f bytes\" % (get_gzipped_model_size(pruned_keras_file)))\n",
    "print(\"Size of gzipped pruned TFlite model: %.2f bytes\" % (get_gzipped_model_size(pruned_tflite_file)))"
   ]
  },
  {
   "cell_type": "code",
   "execution_count": 19,
   "id": "brief-filter",
   "metadata": {},
   "outputs": [
    {
     "name": "stdout",
     "output_type": "stream",
     "text": [
      "9/9 [==============================] - 3s 279ms/step - loss: 0.5527 - accuracy: 0.7287\n"
     ]
    },
    {
     "data": {
      "text/plain": [
       "[0.552737472164962, 0.72868216]"
      ]
     },
     "execution_count": 19,
     "metadata": {},
     "output_type": "execute_result"
    }
   ],
   "source": [
    "model_for_pruning.evaluate(validation_generator)"
   ]
  },
  {
   "cell_type": "markdown",
   "id": "biological-findings",
   "metadata": {},
   "source": [
    "# 3. Fine-Tune the Pruned Model\n",
    "https://www.tensorflow.org/model_optimization/guide/pruning/pruning_with_keras"
   ]
  }
 ],
 "metadata": {
  "kernelspec": {
   "display_name": "Python 3",
   "language": "python",
   "name": "python3"
  },
  "language_info": {
   "codemirror_mode": {
    "name": "ipython",
    "version": 3
   },
   "file_extension": ".py",
   "mimetype": "text/x-python",
   "name": "python",
   "nbconvert_exporter": "python",
   "pygments_lexer": "ipython3",
   "version": "3.7.10"
  }
 },
 "nbformat": 4,
 "nbformat_minor": 5
}
